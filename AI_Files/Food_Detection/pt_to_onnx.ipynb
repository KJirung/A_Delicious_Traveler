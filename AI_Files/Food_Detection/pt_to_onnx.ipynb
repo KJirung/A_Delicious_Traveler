{
 "cells": [
  {
   "cell_type": "code",
   "execution_count": 2,
   "metadata": {},
   "outputs": [
    {
     "name": "stderr",
     "output_type": "stream",
     "text": [
      "\u001b[34m\u001b[1mexport: \u001b[0mdata=D:\\Roboflow\\food detector.v5i.yolov5pytorch\\data\\coco128.yaml, weights=['runs/train/exp15/weights/food_detection.pt'], imgsz=[640, 640], batch_size=1, device=cpu, half=False, inplace=False, keras=False, optimize=False, int8=False, per_tensor=False, dynamic=False, simplify=False, opset=17, verbose=False, workspace=4, nms=False, agnostic_nms=False, topk_per_class=100, topk_all=100, iou_thres=0.45, conf_thres=0.25, include=['torchscript']\n",
      "YOLOv5  2024-4-6 Python-3.9.19 torch-2.2.2 CPU\n",
      "\n",
      "Fusing layers... \n",
      "Model summary: 212 layers, 20852934 parameters, 0 gradients, 47.9 GFLOPs\n",
      "\n",
      "\u001b[34m\u001b[1mPyTorch:\u001b[0m starting from runs\\train\\exp15\\weights\\food_detection.pt with output shape (1, 25200, 6) (40.1 MB)\n",
      "\n",
      "\u001b[34m\u001b[1mTorchScript:\u001b[0m starting export with torch 2.2.2...\n",
      "\u001b[34m\u001b[1mTorchScript:\u001b[0m export success  3.4s, saved as runs\\train\\exp15\\weights\\food_detection.torchscript.pt (80.1 MB)\n",
      "\n",
      "Export complete (4.6s)\n",
      "Results saved to \u001b[1mD:\\Roboflow\\food detector.v5i.yolov5pytorch\\runs\\train\\exp15\\weights\u001b[0m\n",
      "Detect:          python detect.py --weights runs\\train\\exp15\\weights\\food_detection.torchscript.pt \n",
      "Validate:        python val.py --weights runs\\train\\exp15\\weights\\food_detection.torchscript.pt \n",
      "PyTorch Hub:     model = torch.hub.load('ultralytics/yolov5', 'custom', 'runs\\train\\exp15\\weights\\food_detection.torchscript.pt')  \n",
      "Visualize:       https://netron.app\n"
     ]
    }
   ],
   "source": [
    "!python export.py --weights runs/train/exp15/weights/food_detection.pt --include torchscript"
   ]
  }
 ],
 "metadata": {
  "kernelspec": {
   "display_name": "yolo",
   "language": "python",
   "name": "python3"
  },
  "language_info": {
   "codemirror_mode": {
    "name": "ipython",
    "version": 3
   },
   "file_extension": ".py",
   "mimetype": "text/x-python",
   "name": "python",
   "nbconvert_exporter": "python",
   "pygments_lexer": "ipython3",
   "version": "3.9.19"
  }
 },
 "nbformat": 4,
 "nbformat_minor": 2
}
